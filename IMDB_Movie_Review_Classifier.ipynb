{
  "nbformat": 4,
  "nbformat_minor": 0,
  "metadata": {
    "colab": {
      "name": "IMDB_Movie_Review_Classifier.ipynb",
      "provenance": [],
      "collapsed_sections": [],
      "toc_visible": true,
      "authorship_tag": "ABX9TyPkgSD8n9PkV7Onc2BS3woa",
      "include_colab_link": true
    },
    "kernelspec": {
      "name": "python3",
      "display_name": "Python 3"
    },
    "accelerator": "GPU"
  },
  "cells": [
    {
      "cell_type": "markdown",
      "metadata": {
        "id": "view-in-github",
        "colab_type": "text"
      },
      "source": [
        "<a href=\"https://colab.research.google.com/github/MHamiid/IMDB_Movie_Review_Classifier/blob/master/IMDB_Movie_Review_Classifier.ipynb\" target=\"_parent\"><img src=\"https://colab.research.google.com/assets/colab-badge.svg\" alt=\"Open In Colab\"/></a>"
      ]
    },
    {
      "cell_type": "code",
      "metadata": {
        "id": "3saOej3eQfNU",
        "colab_type": "code",
        "colab": {}
      },
      "source": [
        "import json\n",
        "import csv\n",
        "import random\n",
        "import numpy as np\n",
        "import tensorflow as tf\n",
        "from tensorflow.keras.preprocessing.text import Tokenizer\n",
        "from tensorflow.keras.preprocessing.sequence import pad_sequences\n",
        "from tensorflow.keras.layers import Embedding\n",
        "from tensorflow.keras.layers import Conv1D\n",
        "from tensorflow.keras.layers import Bidirectional\n",
        "from tensorflow.keras.layers import LSTM\n",
        "from tensorflow.keras.layers import Dropout\n",
        "from tensorflow.keras.layers import Dense"
      ],
      "execution_count": 1,
      "outputs": []
    },
    {
      "cell_type": "markdown",
      "metadata": {
        "id": "YpXBuF1bQpif",
        "colab_type": "text"
      },
      "source": [
        "Setting up *kaggle.json*"
      ]
    },
    {
      "cell_type": "code",
      "metadata": {
        "id": "5oHgEB9XQ2Vm",
        "colab_type": "code",
        "colab": {}
      },
      "source": [
        "!mkdir ~/.kaggle\n",
        "!touch ~/.kaggle/kaggle.json #json file needed to use kaggle api.\n",
        "\n",
        "api_token = {\"username\":\"YourUserName\",\"key\":\"ApiKey\"} #use your own kaggle username and api key.\n",
        "\n",
        "with open(\"/root/.kaggle/kaggle.json\" , \"w\") as file:\n",
        "    json.dump(api_token , file)\n",
        "\n",
        "!chmod 600 ~/.kaggle/kaggle.json    "
      ],
      "execution_count": 2,
      "outputs": []
    },
    {
      "cell_type": "markdown",
      "metadata": {
        "id": "TBm_g0JuUCbP",
        "colab_type": "text"
      },
      "source": [
        "Download IMDB Dataset"
      ]
    },
    {
      "cell_type": "code",
      "metadata": {
        "id": "dRGMpOAKTfXR",
        "colab_type": "code",
        "colab": {
          "base_uri": "https://localhost:8080/",
          "height": 72
        },
        "outputId": "d52898dc-8d01-4947-a3aa-d7a40878e2fc"
      },
      "source": [
        "!kaggle datasets download -d lakshmi25npathi/imdb-dataset-of-50k-movie-reviews"
      ],
      "execution_count": 3,
      "outputs": [
        {
          "output_type": "stream",
          "text": [
            "Downloading imdb-dataset-of-50k-movie-reviews.zip to /content\n",
            " 35% 9.00M/25.7M [00:00<00:01, 15.7MB/s]\n",
            "100% 25.7M/25.7M [00:00<00:00, 40.5MB/s]\n"
          ],
          "name": "stdout"
        }
      ]
    },
    {
      "cell_type": "markdown",
      "metadata": {
        "id": "9CDwNBnSUVQE",
        "colab_type": "text"
      },
      "source": [
        "Unzip dataset"
      ]
    },
    {
      "cell_type": "code",
      "metadata": {
        "id": "_I0GXv31T0DP",
        "colab_type": "code",
        "colab": {
          "base_uri": "https://localhost:8080/",
          "height": 54
        },
        "outputId": "08f5a1f5-3d36-4cf9-faa8-63072f4a7bad"
      },
      "source": [
        "!mkdir /content/dataset\n",
        "!unzip imdb-dataset-of-50k-movie-reviews.zip -d /content/dataset"
      ],
      "execution_count": 4,
      "outputs": [
        {
          "output_type": "stream",
          "text": [
            "Archive:  imdb-dataset-of-50k-movie-reviews.zip\n",
            "  inflating: /content/dataset/IMDB Dataset.csv  \n"
          ],
          "name": "stdout"
        }
      ]
    },
    {
      "cell_type": "markdown",
      "metadata": {
        "id": "m1qbtaEL32fk",
        "colab_type": "text"
      },
      "source": [
        "**Helper functions**"
      ]
    },
    {
      "cell_type": "code",
      "metadata": {
        "id": "Q8ppxalaUuag",
        "colab_type": "code",
        "colab": {}
      },
      "source": [
        "def get_csv_data(file_name , stop_words):\n",
        "  sentences = []\n",
        "  original = []\n",
        "  labels = []\n",
        "  with open(file_name , \"r\") as file:\n",
        "    reader = csv.reader(file , delimiter = \",\")\n",
        "    next(reader) #skip csv header.\n",
        "    for row in reader:\n",
        "      labels.append(row[1])\n",
        "      sentence = row[0]\n",
        "      sentence = sentence.replace(\"<br /><br />\" , \" \") #remove the end-line tag that appears in all examples.\n",
        "      original.append(row[0])\n",
        "      #remove stop words and extra spaces.\n",
        "      if stop_words is not None:\n",
        "        for stopWord in stop_words:\n",
        "            sentence = sentence.replace(\" \"+stopWord +\" \" , \" \")\n",
        "            sentence = sentence.replace(\" \"+stopWord.title() +\" \" , \" \")\n",
        "            sentence = sentence.replace(\"  \" , \" \")\n",
        "      sentences.append(sentence)\n",
        "  return sentences , labels , original     \n",
        "\n",
        "\n",
        "def inverse_dictionary(dict):\n",
        "  return {value: key for key, value in dict.items()}\n",
        "\n",
        "\n",
        "def decode_sequence(sequence , dict):\n",
        "    return ' '.join([dict.get(i, '?') for i in sequence])\n",
        "\n",
        "    "
      ],
      "execution_count": 5,
      "outputs": []
    },
    {
      "cell_type": "markdown",
      "metadata": {
        "id": "oPEsZEMTVFfT",
        "colab_type": "text"
      },
      "source": [
        "Process CSV file\n"
      ]
    },
    {
      "cell_type": "code",
      "metadata": {
        "id": "_NbQ6zjEUxXg",
        "colab_type": "code",
        "colab": {}
      },
      "source": [
        "#Stopwords list from https://github.com/Yoast/YoastSEO.js/blob/develop/src/config/stopwords.js\n",
        "# stop_words = [ \"br\" ,\"a\", \"about\", \"above\", \"after\", \"again\", \"against\", \"all\", \"am\", \"an\", \"and\", \"any\", \"are\", \"as\", \"at\", \"be\", \"because\", \"been\", \"before\", \"being\", \"below\", \"between\", \"both\", \"but\", \"by\", \"could\", \"did\", \"do\", \"does\", \"doing\", \"down\", \"during\", \"each\", \"few\", \"for\", \"from\", \"further\", \"had\", \"has\", \"have\", \"having\", \"he\", \"he'd\", \"he'll\", \"he's\", \"her\", \"here\", \"here's\", \"hers\", \"herself\", \"him\", \"himself\", \"his\", \"how\", \"how's\", \"i\", \"i'd\", \"i'll\", \"i'm\", \"i've\", \"if\", \"in\", \"into\", \"is\", \"it\", \"it's\", \"its\", \"itself\", \"let's\", \"me\", \"more\", \"most\", \"my\", \"myself\", \"nor\", \"of\", \"on\", \"once\", \"only\", \"or\", \"other\", \"ought\", \"our\", \"ours\", \"ourselves\", \"out\", \"over\", \"own\", \"same\", \"she\", \"she'd\", \"she'll\", \"she's\", \"should\", \"so\", \"some\", \"such\", \"than\", \"that\", \"that's\", \"the\", \"their\", \"theirs\", \"them\", \"themselves\", \"then\", \"there\", \"there's\", \"these\", \"they\", \"they'd\", \"they'll\", \"they're\", \"they've\", \"this\", \"those\", \"through\", \"to\", \"too\", \"under\", \"until\", \"up\", \"very\", \"was\", \"we\", \"we'd\", \"we'll\", \"we're\", \"we've\", \"were\", \"what\", \"what's\", \"when\", \"when's\", \"where\", \"where's\", \"which\", \"while\", \"who\", \"who's\", \"whom\", \"why\", \"why's\", \"with\", \"would\", \"you\", \"you'd\", \"you'll\", \"you're\", \"you've\", \"your\", \"yours\", \"yourself\", \"yourselves\" ]\n",
        "sentences , labels , original = get_csv_data(\"/content/dataset/IMDB Dataset.csv\" , None)"
      ],
      "execution_count": 6,
      "outputs": []
    },
    {
      "cell_type": "code",
      "metadata": {
        "id": "AmUYVHHGeCRU",
        "colab_type": "code",
        "colab": {}
      },
      "source": [
        "index = 33\n",
        "print(\"Sentence length:\" , len(sentences[index]))\n",
        "print(sentences[index])\n",
        "\n",
        "print(\"Original length:\",len(original[index]))\n",
        "print(original[index])"
      ],
      "execution_count": null,
      "outputs": []
    },
    {
      "cell_type": "code",
      "metadata": {
        "id": "1qXOm5lfdkUK",
        "colab_type": "code",
        "colab": {
          "base_uri": "https://localhost:8080/",
          "height": 35
        },
        "outputId": "0762fbc6-245e-4718-cc31-513563b672be"
      },
      "source": [
        "print(\"#Sentences:\" , len(sentences))"
      ],
      "execution_count": 8,
      "outputs": [
        {
          "output_type": "stream",
          "text": [
            "#Sentences: 50000\n"
          ],
          "name": "stdout"
        }
      ]
    },
    {
      "cell_type": "markdown",
      "metadata": {
        "id": "BOnDVofMvaa9",
        "colab_type": "text"
      },
      "source": [
        " Sentence Tokenizer\n"
      ]
    },
    {
      "cell_type": "code",
      "metadata": {
        "id": "xiEZMCqt8jdb",
        "colab_type": "code",
        "colab": {}
      },
      "source": [
        "vocab_size = 30000\n",
        "max_length = 300\n",
        "padding_dir = \"post\"\n",
        "truncating_dir = \"post\""
      ],
      "execution_count": 9,
      "outputs": []
    },
    {
      "cell_type": "code",
      "metadata": {
        "id": "doLG2jSudGCT",
        "colab_type": "code",
        "colab": {}
      },
      "source": [
        "tokenizer = Tokenizer(num_words = vocab_size , oov_token = \"<OOV>\") #will use vocab_size of the total words.\n",
        "tokenizer.fit_on_texts(sentences)\n",
        "print(\"#Total Words:\" ,len(tokenizer.word_index) )\n",
        "print(tokenizer.word_index)\n",
        "word_index_inverse = inverse_dictionary(tokenizer.word_index) #inversing word_index."
      ],
      "execution_count": null,
      "outputs": []
    },
    {
      "cell_type": "code",
      "metadata": {
        "id": "d8uJuy8_v6-p",
        "colab_type": "code",
        "colab": {}
      },
      "source": [
        "sequences = tokenizer.texts_to_sequences(sentences)\n",
        "padded_sequences = pad_sequences(sequences , maxlen=max_length , padding=padding_dir , truncating=truncating_dir)"
      ],
      "execution_count": 11,
      "outputs": []
    },
    {
      "cell_type": "markdown",
      "metadata": {
        "id": "yLX1Dl_lMmdt",
        "colab_type": "text"
      },
      "source": [
        "Label Tokenizer"
      ]
    },
    {
      "cell_type": "code",
      "metadata": {
        "id": "UPcJcldHMo_E",
        "colab_type": "code",
        "colab": {
          "base_uri": "https://localhost:8080/",
          "height": 35
        },
        "outputId": "723fa33d-4164-4462-dd20-9b320b5a4b3f"
      },
      "source": [
        "#Using tokenizer for labels to change from string {positive','negative} notation to int notation.\n",
        "label_tokenizer = Tokenizer()\n",
        "label_tokenizer.fit_on_texts(labels)\n",
        "#Change the values to binary classes.\n",
        "label_tokenizer.word_index[\"positive\"]  = 1\n",
        "label_tokenizer.word_index[\"negative\"]  = 0\n",
        "label_index_inverse = inverse_dictionary(label_tokenizer.word_index) #inversing word_index.\n",
        "print(\"Labels:\",label_tokenizer.word_index)\n",
        "\n",
        "labels_binary = label_tokenizer.texts_to_sequences(labels)"
      ],
      "execution_count": 12,
      "outputs": [
        {
          "output_type": "stream",
          "text": [
            "Labels: {'positive': 1, 'negative': 0}\n"
          ],
          "name": "stdout"
        }
      ]
    },
    {
      "cell_type": "code",
      "metadata": {
        "id": "AM-pcN5-M-Am",
        "colab_type": "code",
        "colab": {
          "base_uri": "https://localhost:8080/",
          "height": 54
        },
        "outputId": "2e1cb6a5-d4b6-4468-f18d-3e9bd988d9aa"
      },
      "source": [
        "\n",
        "print(\"Before label tokenization:\", labels[0:10])\n",
        "print(\"After label tokenization:\",labels_binary[0:10])"
      ],
      "execution_count": 13,
      "outputs": [
        {
          "output_type": "stream",
          "text": [
            "Before label tokenization: ['positive', 'positive', 'positive', 'negative', 'positive', 'positive', 'positive', 'negative', 'negative', 'positive']\n",
            "After label tokenization: [[1], [1], [1], [0], [1], [1], [1], [0], [0], [1]]\n"
          ],
          "name": "stdout"
        }
      ]
    },
    {
      "cell_type": "markdown",
      "metadata": {
        "id": "tlavUswI1PSl",
        "colab_type": "text"
      },
      "source": [
        "Shuffling all the data"
      ]
    },
    {
      "cell_type": "code",
      "metadata": {
        "id": "JsvDCTd31UN5",
        "colab_type": "code",
        "colab": {
          "base_uri": "https://localhost:8080/",
          "height": 55
        },
        "outputId": "da9a56b3-1bfb-42b5-8da9-3d4765980dc3"
      },
      "source": [
        "#zip each example with its labels.\n",
        "zipped_dataset = list(zip(padded_sequences , labels_binary))\n",
        "random.shuffle(zipped_dataset) #shuffle the data randomly.\n",
        "padded_sequences , labels_binary = zip(*zipped_dataset) #unzip the data.\n",
        "#print first example after shuffling\n",
        "print((labels_binary[0],decode_sequence(labels_binary[0] ,label_index_inverse ) ,decode_sequence(padded_sequences[0] , word_index_inverse)))\n"
      ],
      "execution_count": 15,
      "outputs": [
        {
          "output_type": "stream",
          "text": [
            "([1], 'positive', \"when the net was first being advertised the ads made it look ridiculous then when i saw it it was actually quite good angela bennett sandra bullock spends her days working on the computer and has never gotten to know her neighbors then through a series of events her identity gets erased by a cabal of shadowy people and she can't prove that she exists some parts of the movie are a little bit far fetched you'd probably know which parts if you saw the movie still it's a good look into what the existence of the internet may have wrought on unsuspecting people i do recommend it ? ? ? ? ? ? ? ? ? ? ? ? ? ? ? ? ? ? ? ? ? ? ? ? ? ? ? ? ? ? ? ? ? ? ? ? ? ? ? ? ? ? ? ? ? ? ? ? ? ? ? ? ? ? ? ? ? ? ? ? ? ? ? ? ? ? ? ? ? ? ? ? ? ? ? ? ? ? ? ? ? ? ? ? ? ? ? ? ? ? ? ? ? ? ? ? ? ? ? ? ? ? ? ? ? ? ? ? ? ? ? ? ? ? ? ? ? ? ? ? ? ? ? ? ? ? ? ? ? ? ? ? ? ? ? ? ? ? ? ? ? ? ? ? ? ? ? ? ? ? ? ? ? ? ? ? ? ? ? ? ? ? ? ? ? ? ? ? ? ? ? ? ? ? ? ? ? ? ? ? ? ? ? ? ? ? ? ? ? ? ? ?\")\n"
          ],
          "name": "stdout"
        }
      ]
    },
    {
      "cell_type": "markdown",
      "metadata": {
        "id": "HCZZDgTR2jQY",
        "colab_type": "text"
      },
      "source": [
        "Spliting data into *training* and *validation*"
      ]
    },
    {
      "cell_type": "code",
      "metadata": {
        "id": "xSjnqtKc3qeQ",
        "colab_type": "code",
        "colab": {
          "base_uri": "https://localhost:8080/",
          "height": 54
        },
        "outputId": "8a08f4b5-12c6-4eb0-bc40-8a2546c28b44"
      },
      "source": [
        "split_ratio = 0.9\n",
        "spliting_point = int(len(padded_sequences)*split_ratio)\n",
        "train_sequences = padded_sequences[:spliting_point]\n",
        "train_labels = labels_binary[:spliting_point]\n",
        "valid_sequences = padded_sequences[spliting_point:]\n",
        "valid_labels = labels_binary[spliting_point:]\n",
        "print(\"#Training Examples:\" , len(train_sequences))\n",
        "print(\"#Validation Examples:\" , len(valid_sequences))"
      ],
      "execution_count": 16,
      "outputs": [
        {
          "output_type": "stream",
          "text": [
            "#Training Examples: 45000\n",
            "#Validation Examples: 5000\n"
          ],
          "name": "stdout"
        }
      ]
    },
    {
      "cell_type": "code",
      "metadata": {
        "id": "6znN3F5M0l35",
        "colab_type": "code",
        "colab": {}
      },
      "source": [
        "print(\"Showing the first 5 training examples\")\n",
        "for example in range(5):\n",
        "  print((labels_binary[example],decode_sequence(labels_binary[example] ,label_index_inverse ) ,decode_sequence(padded_sequences[example] , word_index_inverse)))\n"
      ],
      "execution_count": null,
      "outputs": []
    },
    {
      "cell_type": "markdown",
      "metadata": {
        "id": "PxIC5CFKE_qM",
        "colab_type": "text"
      },
      "source": [
        "***Embedding Matrix***"
      ]
    },
    {
      "cell_type": "markdown",
      "metadata": {
        "id": "UDyVnLeaG0R-",
        "colab_type": "text"
      },
      "source": [
        "Download pre-trained word embeddings"
      ]
    },
    {
      "cell_type": "code",
      "metadata": {
        "id": "G3Z474Ny_nES",
        "colab_type": "code",
        "colab": {
          "base_uri": "https://localhost:8080/",
          "height": 109
        },
        "outputId": "e2592f63-89c5-455f-d516-da70ee1b15cc"
      },
      "source": [
        "!kaggle datasets download -d thanakomsn/glove6b300dtxt\n",
        "!mkdir /content/pre-trained-embedding\n",
        "!unzip glove6b300dtxt.zip -d /content/pre-trained-embedding"
      ],
      "execution_count": 18,
      "outputs": [
        {
          "output_type": "stream",
          "text": [
            "Downloading glove6b300dtxt.zip to /content\n",
            " 99% 384M/386M [00:05<00:00, 78.0MB/s]\n",
            "100% 386M/386M [00:05<00:00, 70.7MB/s]\n",
            "Archive:  glove6b300dtxt.zip\n",
            "  inflating: /content/pre-trained-embedding/glove.6B.300d.txt  \n"
          ],
          "name": "stdout"
        }
      ]
    },
    {
      "cell_type": "code",
      "metadata": {
        "id": "H4FDRj6jHT69",
        "colab_type": "code",
        "colab": {
          "base_uri": "https://localhost:8080/",
          "height": 35
        },
        "outputId": "4278c14c-48e1-48d1-b63a-8d6b140c77eb"
      },
      "source": [
        "#load the whole pre-trained embeddings into list\n",
        "pre_trained_embedding = {}\n",
        "\n",
        "with open(\"/content/pre-trained-embedding/glove.6B.300d.txt\") as file:\n",
        "  for line in file:\n",
        "    line_list = line.split();\n",
        "    word = line_list[0] #get the word.\n",
        "    vector = np.asarray(line_list[1:] ,dtype=\"float32\")#get the embeddings representing that word.\n",
        "    pre_trained_embedding[word] = vector\n",
        "\n",
        "\n",
        "print(\"#pre-trained word embeddings:\",len(pre_trained_embedding))"
      ],
      "execution_count": 19,
      "outputs": [
        {
          "output_type": "stream",
          "text": [
            "#pre-trained word embeddings: 400000\n"
          ],
          "name": "stdout"
        }
      ]
    },
    {
      "cell_type": "markdown",
      "metadata": {
        "id": "EpyTwyYrNszW",
        "colab_type": "text"
      },
      "source": [
        "Creating embedding matrix from pre-trained embeddings"
      ]
    },
    {
      "cell_type": "code",
      "metadata": {
        "id": "0Nc3d5j7M8r_",
        "colab_type": "code",
        "colab": {
          "base_uri": "https://localhost:8080/",
          "height": 54
        },
        "outputId": "315507f7-d263-4e85-9ab1-402e87ee34ed"
      },
      "source": [
        "embedding_dimension = 300 #number of dimensions to represent the word.\n",
        "embedding_matrix = np.zeros((vocab_size+1 , embedding_dimension)) #initialize with zeros, (Adding one to vocab_size for the <OOV> token).\n",
        "numberOfEmbeddingsCopied = 0\n",
        "for word , index in tokenizer.word_index.items():\n",
        "  if index == vocab_size+1:\n",
        "    break\n",
        "  embedding_vector = pre_trained_embedding.get(word)\n",
        "  if embedding_vector is not None:\n",
        "      numberOfEmbeddingsCopied = numberOfEmbeddingsCopied +1\n",
        "      embedding_matrix[index] = embedding_vector\n",
        "\n",
        "print(\"Copied {} word embeddings\".format(numberOfEmbeddingsCopied))    \n",
        "print(\"Embedding matrix size:\",len(embedding_matrix))"
      ],
      "execution_count": 20,
      "outputs": [
        {
          "output_type": "stream",
          "text": [
            "Copied 28020 word embeddings\n",
            "Embedding matrix size: 30001\n"
          ],
          "name": "stdout"
        }
      ]
    },
    {
      "cell_type": "code",
      "metadata": {
        "id": "g3ehINcZNEnj",
        "colab_type": "code",
        "colab": {}
      },
      "source": [
        "#explore dffrent word's embedding values.\n",
        "index = 2\n",
        "# print((word_index_inverse.get(index),embedding_matrix[index]))"
      ],
      "execution_count": 20,
      "outputs": []
    },
    {
      "cell_type": "markdown",
      "metadata": {
        "id": "JEbGQLqgU1s5",
        "colab_type": "text"
      },
      "source": [
        "# Building the model"
      ]
    },
    {
      "cell_type": "code",
      "metadata": {
        "id": "yLLLyqbbSpGq",
        "colab_type": "code",
        "colab": {
          "base_uri": "https://localhost:8080/",
          "height": 384
        },
        "outputId": "18f4fc47-239a-43a7-d2c1-2fa73c196dcd"
      },
      "source": [
        "model = tf.keras.Sequential([\n",
        "    Embedding(vocab_size+1 , embedding_dimension , input_length=max_length ,weights = [embedding_matrix] , trainable = False),\n",
        "    Dropout(0.4),\n",
        "    Conv1D(64 , 5 , activation=\"relu\") ,\n",
        "    Bidirectional(LSTM(32)),\n",
        "    Dropout(0.4),\n",
        "    Dense(1 , activation=\"sigmoid\")\n",
        "])\n",
        "model.compile(loss = 'binary_crossentropy'  , optimizer = tf.keras.optimizers.Adam(learning_rate=0.001) , metrics = ['accuracy'])\n",
        "model.summary()"
      ],
      "execution_count": 28,
      "outputs": [
        {
          "output_type": "stream",
          "text": [
            "Model: \"sequential_4\"\n",
            "_________________________________________________________________\n",
            "Layer (type)                 Output Shape              Param #   \n",
            "=================================================================\n",
            "embedding_4 (Embedding)      (None, 300, 300)          9000300   \n",
            "_________________________________________________________________\n",
            "dropout_9 (Dropout)          (None, 300, 300)          0         \n",
            "_________________________________________________________________\n",
            "conv1d_4 (Conv1D)            (None, 296, 64)           96064     \n",
            "_________________________________________________________________\n",
            "bidirectional_4 (Bidirection (None, 64)                24832     \n",
            "_________________________________________________________________\n",
            "dropout_10 (Dropout)         (None, 64)                0         \n",
            "_________________________________________________________________\n",
            "dense_5 (Dense)              (None, 1)                 65        \n",
            "=================================================================\n",
            "Total params: 9,121,261\n",
            "Trainable params: 120,961\n",
            "Non-trainable params: 9,000,300\n",
            "_________________________________________________________________\n"
          ],
          "name": "stdout"
        }
      ]
    },
    {
      "cell_type": "markdown",
      "metadata": {
        "id": "cSxQvaw8YUuB",
        "colab_type": "text"
      },
      "source": [
        " **Training the model**"
      ]
    },
    {
      "cell_type": "code",
      "metadata": {
        "id": "cemDK-wYTEZr",
        "colab_type": "code",
        "colab": {
          "base_uri": "https://localhost:8080/",
          "height": 384
        },
        "outputId": "3eef69ae-17e5-485a-a662-7b8536a863e2"
      },
      "source": [
        "history = model.fit(np.array(train_sequences), np.array(train_labels), epochs=10, validation_data=(np.array(valid_sequences), np.array(valid_labels)), verbose=1)"
      ],
      "execution_count": 29,
      "outputs": [
        {
          "output_type": "stream",
          "text": [
            "Epoch 1/10\n",
            "1407/1407 [==============================] - 154s 109ms/step - loss: 0.4850 - accuracy: 0.7643 - val_loss: 0.3638 - val_accuracy: 0.8476\n",
            "Epoch 2/10\n",
            "1407/1407 [==============================] - 154s 109ms/step - loss: 0.3498 - accuracy: 0.8501 - val_loss: 0.3073 - val_accuracy: 0.8720\n",
            "Epoch 3/10\n",
            "1407/1407 [==============================] - 153s 109ms/step - loss: 0.3128 - accuracy: 0.8699 - val_loss: 0.3045 - val_accuracy: 0.8760\n",
            "Epoch 4/10\n",
            "1407/1407 [==============================] - 153s 109ms/step - loss: 0.2904 - accuracy: 0.8794 - val_loss: 0.3342 - val_accuracy: 0.8652\n",
            "Epoch 5/10\n",
            "1407/1407 [==============================] - 153s 109ms/step - loss: 0.2683 - accuracy: 0.8890 - val_loss: 0.2611 - val_accuracy: 0.8918\n",
            "Epoch 6/10\n",
            "1407/1407 [==============================] - 153s 108ms/step - loss: 0.2549 - accuracy: 0.8971 - val_loss: 0.2657 - val_accuracy: 0.8934\n",
            "Epoch 7/10\n",
            "1407/1407 [==============================] - 153s 109ms/step - loss: 0.2410 - accuracy: 0.9029 - val_loss: 0.2664 - val_accuracy: 0.8966\n",
            "Epoch 8/10\n",
            "1407/1407 [==============================] - 153s 109ms/step - loss: 0.2342 - accuracy: 0.9059 - val_loss: 0.2667 - val_accuracy: 0.8950\n",
            "Epoch 9/10\n",
            "1407/1407 [==============================] - 152s 108ms/step - loss: 0.2240 - accuracy: 0.9111 - val_loss: 0.2616 - val_accuracy: 0.8850\n",
            "Epoch 10/10\n",
            "1407/1407 [==============================] - 152s 108ms/step - loss: 0.2168 - accuracy: 0.9139 - val_loss: 0.2529 - val_accuracy: 0.8958\n"
          ],
          "name": "stdout"
        }
      ]
    },
    {
      "cell_type": "code",
      "metadata": {
        "id": "NxVdSOe2Z81y",
        "colab_type": "code",
        "colab": {
          "base_uri": "https://localhost:8080/",
          "height": 610
        },
        "outputId": "8883bfcc-4898-4cef-faee-3e279037571d"
      },
      "source": [
        "import matplotlib.image  as mpimg\n",
        "import matplotlib.pyplot as plt\n",
        "\n",
        "#-----------------------------------------------------------\n",
        "# Retrieve a list of list results on training and test data\n",
        "# sets for each training epoch\n",
        "#-----------------------------------------------------------\n",
        "acc=history.history['accuracy']\n",
        "val_acc=history.history['val_accuracy']\n",
        "loss=history.history['loss']\n",
        "val_loss=history.history['val_loss']\n",
        "\n",
        "epochs=range(len(acc)) # Get number of epochs\n",
        "\n",
        "#------------------------------------------------\n",
        "# Plot training and validation accuracy per epoch\n",
        "#------------------------------------------------\n",
        "plt.plot(epochs, acc, 'r')\n",
        "plt.plot(epochs, val_acc, 'b')\n",
        "plt.title('Training and validation accuracy')\n",
        "plt.xlabel(\"Epochs\")\n",
        "plt.ylabel(\"Accuracy\")\n",
        "plt.legend([\"Accuracy\", \"Validation Accuracy\"])\n",
        "\n",
        "plt.figure()\n",
        "\n",
        "#------------------------------------------------\n",
        "# Plot training and validation loss per epoch\n",
        "#------------------------------------------------\n",
        "plt.plot(epochs, loss, 'r')\n",
        "plt.plot(epochs, val_loss, 'b')\n",
        "plt.title('Training and validation loss')\n",
        "plt.xlabel(\"Epochs\")\n",
        "plt.ylabel(\"Loss\")\n",
        "plt.legend([\"Loss\", \"Validation Loss\"])\n",
        "\n",
        "plt.figure()\n",
        "\n"
      ],
      "execution_count": 30,
      "outputs": [
        {
          "output_type": "execute_result",
          "data": {
            "text/plain": [
              "<Figure size 432x288 with 0 Axes>"
            ]
          },
          "metadata": {
            "tags": []
          },
          "execution_count": 30
        },
        {
          "output_type": "display_data",
          "data": {
            "image/png": "[encoded data removed]",
            "text/plain": [
              "<Figure size 432x288 with 1 Axes>"
            ]
          },
          "metadata": {
            "tags": [],
            "needs_background": "light"
          }
        },
        {
          "output_type": "display_data",
          "data": {
            "image/png": "[encoded data removed]",
            "text/plain": [
              "<Figure size 432x288 with 1 Axes>"
            ]
          },
          "metadata": {
            "tags": [],
            "needs_background": "light"
          }
        },
        {
          "output_type": "display_data",
          "data": {
            "text/plain": [
              "<Figure size 432x288 with 0 Axes>"
            ]
          },
          "metadata": {
            "tags": []
          }
        }
      ]
    },
    {
      "cell_type": "code",
      "metadata": {
        "id": "GB94vawcss-W",
        "colab_type": "code",
        "colab": {
          "base_uri": "https://localhost:8080/",
          "height": 54
        },
        "outputId": "3636c489-e74e-4021-f22b-a9d18509c6e1"
      },
      "source": [
        "test_cases = [\"the acting is not that good\" , \"this is the most iconic action leading man in history\"]\n",
        "test_sequences = tokenizer.texts_to_sequences(test_cases)\n",
        "test_padded =pad_sequences(test_sequences , maxlen=max_length , padding=padding_dir , truncating=truncating_dir)\n",
        "predictions = model.predict(np.expand_dims(test_padded,axis = -1))\n",
        "for review in range (len(test_cases)):\n",
        "  if predictions[review]>=0.5:\n",
        "    print(\"({})Positive Review:\".format(predictions[review]),test_cases[review])\n",
        "  else:\n",
        "    print(\"({})Negative Review:\".format(predictions[review]),test_cases[review])\n",
        "\n"
      ],
      "execution_count": 68,
      "outputs": [
        {
          "output_type": "stream",
          "text": [
            "([0.47154722])Negative Review: the acting is not that good\n",
            "([0.94010925])Positive Review: this is the most iconic action leading man in history\n"
          ],
          "name": "stdout"
        }
      ]
    },
    {
      "cell_type": "code",
      "metadata": {
        "id": "FlTAwXZltmxA",
        "colab_type": "code",
        "colab": {}
      },
      "source": [
        "model.save(\"IMDB_Movie_Review_Classifier.h5\")"
      ],
      "execution_count": 69,
      "outputs": []
    }
  ]
}